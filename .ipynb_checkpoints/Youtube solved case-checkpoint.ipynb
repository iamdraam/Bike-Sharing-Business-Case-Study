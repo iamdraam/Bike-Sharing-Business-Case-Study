{
 "cells": [
  {
   "cell_type": "markdown",
   "id": "d48a8839",
   "metadata": {},
   "source": [
    "# Problem Statement "
   ]
  },
  {
   "cell_type": "markdown",
   "id": "965ad1aa",
   "metadata": {},
   "source": [
    "    The company wants to know:\n",
    "\n",
    "    * Which variables are significant in predicting the demand for shared electric cycles in the Indian market?\n",
    "    * How well those variables describe the electric cycle demands"
   ]
  },
  {
   "cell_type": "markdown",
   "id": "8532b009",
   "metadata": {},
   "source": [
    "##    Column Profiling:\n",
    "\n",
    "    datetime: datetime\n",
    "    season: season (1: spring, 2: summer, 3: fall, 4: winter)\n",
    "    holiday: whether day is a holiday or not (extracted from http://dchr.dc.gov/page/holiday-schedule)\n",
    "    workingday: if day is neither weekend nor holiday is 1, otherwise is 0.\n",
    "    weather:\n",
    "        1: Clear, Few clouds, partly cloudy, partly cloudy\n",
    "        2: Mist + Cloudy, Mist + Broken clouds, Mist + Few clouds, Mist\n",
    "        3: Light Snow, Light Rain + Thunderstorm + Scattered clouds, Light Rain + Scattered clouds\n",
    "        4: Heavy Rain + Ice Pallets + Thunderstorm + Mist, Snow + Fog\n",
    "    temp: temperature in Celsius\n",
    "    atemp: feeling temperature in Celsius\n",
    "    humidity: humidity\n",
    "    windspeed: wind speed\n",
    "    casual: count of casual users\n",
    "    registered: count of registered users\n",
    "    count: count of total rental bikes including both casual and registered"
   ]
  },
  {
   "cell_type": "markdown",
   "id": "8a5b5665",
   "metadata": {},
   "source": [
    "# Concept Used:\n",
    "\n",
    "    Bi-Variate Analysis\n",
    "    2-sample t-test: testing for difference across populations\n",
    "    ANNOVA\n",
    "    Chi-square"
   ]
  },
  {
   "cell_type": "code",
   "execution_count": null,
   "id": "cd0cca61",
   "metadata": {},
   "outputs": [],
   "source": []
  },
  {
   "cell_type": "code",
   "execution_count": null,
   "id": "9901869f",
   "metadata": {},
   "outputs": [],
   "source": []
  },
  {
   "cell_type": "code",
   "execution_count": null,
   "id": "b02e6321",
   "metadata": {},
   "outputs": [],
   "source": []
  },
  {
   "cell_type": "code",
   "execution_count": null,
   "id": "2a66de32",
   "metadata": {},
   "outputs": [],
   "source": []
  },
  {
   "cell_type": "code",
   "execution_count": null,
   "id": "b084e320",
   "metadata": {},
   "outputs": [],
   "source": []
  },
  {
   "cell_type": "code",
   "execution_count": null,
   "id": "d57ac56d",
   "metadata": {},
   "outputs": [],
   "source": []
  },
  {
   "cell_type": "code",
   "execution_count": null,
   "id": "e373ecdf",
   "metadata": {},
   "outputs": [],
   "source": []
  },
  {
   "cell_type": "code",
   "execution_count": null,
   "id": "90d2c5ec",
   "metadata": {},
   "outputs": [],
   "source": []
  },
  {
   "cell_type": "code",
   "execution_count": null,
   "id": "df2274ad",
   "metadata": {},
   "outputs": [],
   "source": []
  },
  {
   "cell_type": "code",
   "execution_count": null,
   "id": "d9134e48",
   "metadata": {},
   "outputs": [],
   "source": []
  },
  {
   "cell_type": "code",
   "execution_count": 1,
   "id": "e9c5e7f6",
   "metadata": {},
   "outputs": [],
   "source": [
    "import pylab\n",
    "import calendar\n",
    "import numpy as np\n",
    "import pandas as pd\n",
    "import seaborn as sns\n",
    "import scipy as stats\n",
    "import missingno as msno\n",
    "from datetime import datetime\n",
    "import matplotlib.pyplot as plt\n",
    "import warnings\n",
    "pd.options.mode.chained_assignment=None\n",
    "warnings.filterwarnings('ignore')"
   ]
  },
  {
   "cell_type": "code",
   "execution_count": null,
   "id": "e7a75c97",
   "metadata": {},
   "outputs": [],
   "source": []
  },
  {
   "cell_type": "markdown",
   "id": "871e3eb9",
   "metadata": {},
   "source": [
    "# Reading the dataset "
   ]
  },
  {
   "cell_type": "code",
   "execution_count": null,
   "id": "f14f0ae1",
   "metadata": {},
   "outputs": [],
   "source": []
  },
  {
   "cell_type": "code",
   "execution_count": 2,
   "id": "a9532940",
   "metadata": {},
   "outputs": [],
   "source": [
    "df=pd.read_csv('bike_sharing.csv')"
   ]
  },
  {
   "cell_type": "code",
   "execution_count": 3,
   "id": "974473ac",
   "metadata": {},
   "outputs": [
    {
     "data": {
      "text/html": [
       "<div>\n",
       "<style scoped>\n",
       "    .dataframe tbody tr th:only-of-type {\n",
       "        vertical-align: middle;\n",
       "    }\n",
       "\n",
       "    .dataframe tbody tr th {\n",
       "        vertical-align: top;\n",
       "    }\n",
       "\n",
       "    .dataframe thead th {\n",
       "        text-align: right;\n",
       "    }\n",
       "</style>\n",
       "<table border=\"1\" class=\"dataframe\">\n",
       "  <thead>\n",
       "    <tr style=\"text-align: right;\">\n",
       "      <th></th>\n",
       "      <th>datetime</th>\n",
       "      <th>season</th>\n",
       "      <th>holiday</th>\n",
       "      <th>workingday</th>\n",
       "      <th>weather</th>\n",
       "      <th>temp</th>\n",
       "      <th>atemp</th>\n",
       "      <th>humidity</th>\n",
       "      <th>windspeed</th>\n",
       "      <th>casual</th>\n",
       "      <th>registered</th>\n",
       "      <th>count</th>\n",
       "    </tr>\n",
       "  </thead>\n",
       "  <tbody>\n",
       "    <tr>\n",
       "      <th>0</th>\n",
       "      <td>2011-01-01 00:00:00</td>\n",
       "      <td>1</td>\n",
       "      <td>0</td>\n",
       "      <td>0</td>\n",
       "      <td>1</td>\n",
       "      <td>9.84</td>\n",
       "      <td>14.395</td>\n",
       "      <td>81</td>\n",
       "      <td>0.0000</td>\n",
       "      <td>3</td>\n",
       "      <td>13</td>\n",
       "      <td>16</td>\n",
       "    </tr>\n",
       "    <tr>\n",
       "      <th>1</th>\n",
       "      <td>2011-01-01 01:00:00</td>\n",
       "      <td>1</td>\n",
       "      <td>0</td>\n",
       "      <td>0</td>\n",
       "      <td>1</td>\n",
       "      <td>9.02</td>\n",
       "      <td>13.635</td>\n",
       "      <td>80</td>\n",
       "      <td>0.0000</td>\n",
       "      <td>8</td>\n",
       "      <td>32</td>\n",
       "      <td>40</td>\n",
       "    </tr>\n",
       "    <tr>\n",
       "      <th>2</th>\n",
       "      <td>2011-01-01 02:00:00</td>\n",
       "      <td>1</td>\n",
       "      <td>0</td>\n",
       "      <td>0</td>\n",
       "      <td>1</td>\n",
       "      <td>9.02</td>\n",
       "      <td>13.635</td>\n",
       "      <td>80</td>\n",
       "      <td>0.0000</td>\n",
       "      <td>5</td>\n",
       "      <td>27</td>\n",
       "      <td>32</td>\n",
       "    </tr>\n",
       "    <tr>\n",
       "      <th>3</th>\n",
       "      <td>2011-01-01 03:00:00</td>\n",
       "      <td>1</td>\n",
       "      <td>0</td>\n",
       "      <td>0</td>\n",
       "      <td>1</td>\n",
       "      <td>9.84</td>\n",
       "      <td>14.395</td>\n",
       "      <td>75</td>\n",
       "      <td>0.0000</td>\n",
       "      <td>3</td>\n",
       "      <td>10</td>\n",
       "      <td>13</td>\n",
       "    </tr>\n",
       "    <tr>\n",
       "      <th>4</th>\n",
       "      <td>2011-01-01 04:00:00</td>\n",
       "      <td>1</td>\n",
       "      <td>0</td>\n",
       "      <td>0</td>\n",
       "      <td>1</td>\n",
       "      <td>9.84</td>\n",
       "      <td>14.395</td>\n",
       "      <td>75</td>\n",
       "      <td>0.0000</td>\n",
       "      <td>0</td>\n",
       "      <td>1</td>\n",
       "      <td>1</td>\n",
       "    </tr>\n",
       "    <tr>\n",
       "      <th>...</th>\n",
       "      <td>...</td>\n",
       "      <td>...</td>\n",
       "      <td>...</td>\n",
       "      <td>...</td>\n",
       "      <td>...</td>\n",
       "      <td>...</td>\n",
       "      <td>...</td>\n",
       "      <td>...</td>\n",
       "      <td>...</td>\n",
       "      <td>...</td>\n",
       "      <td>...</td>\n",
       "      <td>...</td>\n",
       "    </tr>\n",
       "    <tr>\n",
       "      <th>10881</th>\n",
       "      <td>2012-12-19 19:00:00</td>\n",
       "      <td>4</td>\n",
       "      <td>0</td>\n",
       "      <td>1</td>\n",
       "      <td>1</td>\n",
       "      <td>15.58</td>\n",
       "      <td>19.695</td>\n",
       "      <td>50</td>\n",
       "      <td>26.0027</td>\n",
       "      <td>7</td>\n",
       "      <td>329</td>\n",
       "      <td>336</td>\n",
       "    </tr>\n",
       "    <tr>\n",
       "      <th>10882</th>\n",
       "      <td>2012-12-19 20:00:00</td>\n",
       "      <td>4</td>\n",
       "      <td>0</td>\n",
       "      <td>1</td>\n",
       "      <td>1</td>\n",
       "      <td>14.76</td>\n",
       "      <td>17.425</td>\n",
       "      <td>57</td>\n",
       "      <td>15.0013</td>\n",
       "      <td>10</td>\n",
       "      <td>231</td>\n",
       "      <td>241</td>\n",
       "    </tr>\n",
       "    <tr>\n",
       "      <th>10883</th>\n",
       "      <td>2012-12-19 21:00:00</td>\n",
       "      <td>4</td>\n",
       "      <td>0</td>\n",
       "      <td>1</td>\n",
       "      <td>1</td>\n",
       "      <td>13.94</td>\n",
       "      <td>15.910</td>\n",
       "      <td>61</td>\n",
       "      <td>15.0013</td>\n",
       "      <td>4</td>\n",
       "      <td>164</td>\n",
       "      <td>168</td>\n",
       "    </tr>\n",
       "    <tr>\n",
       "      <th>10884</th>\n",
       "      <td>2012-12-19 22:00:00</td>\n",
       "      <td>4</td>\n",
       "      <td>0</td>\n",
       "      <td>1</td>\n",
       "      <td>1</td>\n",
       "      <td>13.94</td>\n",
       "      <td>17.425</td>\n",
       "      <td>61</td>\n",
       "      <td>6.0032</td>\n",
       "      <td>12</td>\n",
       "      <td>117</td>\n",
       "      <td>129</td>\n",
       "    </tr>\n",
       "    <tr>\n",
       "      <th>10885</th>\n",
       "      <td>2012-12-19 23:00:00</td>\n",
       "      <td>4</td>\n",
       "      <td>0</td>\n",
       "      <td>1</td>\n",
       "      <td>1</td>\n",
       "      <td>13.12</td>\n",
       "      <td>16.665</td>\n",
       "      <td>66</td>\n",
       "      <td>8.9981</td>\n",
       "      <td>4</td>\n",
       "      <td>84</td>\n",
       "      <td>88</td>\n",
       "    </tr>\n",
       "  </tbody>\n",
       "</table>\n",
       "<p>10886 rows × 12 columns</p>\n",
       "</div>"
      ],
      "text/plain": [
       "                  datetime  season  holiday  workingday  weather   temp  \\\n",
       "0      2011-01-01 00:00:00       1        0           0        1   9.84   \n",
       "1      2011-01-01 01:00:00       1        0           0        1   9.02   \n",
       "2      2011-01-01 02:00:00       1        0           0        1   9.02   \n",
       "3      2011-01-01 03:00:00       1        0           0        1   9.84   \n",
       "4      2011-01-01 04:00:00       1        0           0        1   9.84   \n",
       "...                    ...     ...      ...         ...      ...    ...   \n",
       "10881  2012-12-19 19:00:00       4        0           1        1  15.58   \n",
       "10882  2012-12-19 20:00:00       4        0           1        1  14.76   \n",
       "10883  2012-12-19 21:00:00       4        0           1        1  13.94   \n",
       "10884  2012-12-19 22:00:00       4        0           1        1  13.94   \n",
       "10885  2012-12-19 23:00:00       4        0           1        1  13.12   \n",
       "\n",
       "        atemp  humidity  windspeed  casual  registered  count  \n",
       "0      14.395        81     0.0000       3          13     16  \n",
       "1      13.635        80     0.0000       8          32     40  \n",
       "2      13.635        80     0.0000       5          27     32  \n",
       "3      14.395        75     0.0000       3          10     13  \n",
       "4      14.395        75     0.0000       0           1      1  \n",
       "...       ...       ...        ...     ...         ...    ...  \n",
       "10881  19.695        50    26.0027       7         329    336  \n",
       "10882  17.425        57    15.0013      10         231    241  \n",
       "10883  15.910        61    15.0013       4         164    168  \n",
       "10884  17.425        61     6.0032      12         117    129  \n",
       "10885  16.665        66     8.9981       4          84     88  \n",
       "\n",
       "[10886 rows x 12 columns]"
      ]
     },
     "execution_count": 3,
     "metadata": {},
     "output_type": "execute_result"
    }
   ],
   "source": [
    "df"
   ]
  },
  {
   "cell_type": "code",
   "execution_count": null,
   "id": "91822201",
   "metadata": {},
   "outputs": [],
   "source": []
  },
  {
   "cell_type": "code",
   "execution_count": 4,
   "id": "670a2047",
   "metadata": {},
   "outputs": [
    {
     "data": {
      "text/html": [
       "<div>\n",
       "<style scoped>\n",
       "    .dataframe tbody tr th:only-of-type {\n",
       "        vertical-align: middle;\n",
       "    }\n",
       "\n",
       "    .dataframe tbody tr th {\n",
       "        vertical-align: top;\n",
       "    }\n",
       "\n",
       "    .dataframe thead th {\n",
       "        text-align: right;\n",
       "    }\n",
       "</style>\n",
       "<table border=\"1\" class=\"dataframe\">\n",
       "  <thead>\n",
       "    <tr style=\"text-align: right;\">\n",
       "      <th></th>\n",
       "      <th>datetime</th>\n",
       "      <th>season</th>\n",
       "      <th>holiday</th>\n",
       "      <th>workingday</th>\n",
       "      <th>weather</th>\n",
       "      <th>temp</th>\n",
       "      <th>atemp</th>\n",
       "      <th>humidity</th>\n",
       "      <th>windspeed</th>\n",
       "      <th>casual</th>\n",
       "      <th>registered</th>\n",
       "      <th>count</th>\n",
       "    </tr>\n",
       "  </thead>\n",
       "  <tbody>\n",
       "    <tr>\n",
       "      <th>0</th>\n",
       "      <td>2011-01-01 00:00:00</td>\n",
       "      <td>1</td>\n",
       "      <td>0</td>\n",
       "      <td>0</td>\n",
       "      <td>1</td>\n",
       "      <td>9.84</td>\n",
       "      <td>14.395</td>\n",
       "      <td>81</td>\n",
       "      <td>0.0</td>\n",
       "      <td>3</td>\n",
       "      <td>13</td>\n",
       "      <td>16</td>\n",
       "    </tr>\n",
       "    <tr>\n",
       "      <th>1</th>\n",
       "      <td>2011-01-01 01:00:00</td>\n",
       "      <td>1</td>\n",
       "      <td>0</td>\n",
       "      <td>0</td>\n",
       "      <td>1</td>\n",
       "      <td>9.02</td>\n",
       "      <td>13.635</td>\n",
       "      <td>80</td>\n",
       "      <td>0.0</td>\n",
       "      <td>8</td>\n",
       "      <td>32</td>\n",
       "      <td>40</td>\n",
       "    </tr>\n",
       "    <tr>\n",
       "      <th>2</th>\n",
       "      <td>2011-01-01 02:00:00</td>\n",
       "      <td>1</td>\n",
       "      <td>0</td>\n",
       "      <td>0</td>\n",
       "      <td>1</td>\n",
       "      <td>9.02</td>\n",
       "      <td>13.635</td>\n",
       "      <td>80</td>\n",
       "      <td>0.0</td>\n",
       "      <td>5</td>\n",
       "      <td>27</td>\n",
       "      <td>32</td>\n",
       "    </tr>\n",
       "    <tr>\n",
       "      <th>3</th>\n",
       "      <td>2011-01-01 03:00:00</td>\n",
       "      <td>1</td>\n",
       "      <td>0</td>\n",
       "      <td>0</td>\n",
       "      <td>1</td>\n",
       "      <td>9.84</td>\n",
       "      <td>14.395</td>\n",
       "      <td>75</td>\n",
       "      <td>0.0</td>\n",
       "      <td>3</td>\n",
       "      <td>10</td>\n",
       "      <td>13</td>\n",
       "    </tr>\n",
       "    <tr>\n",
       "      <th>4</th>\n",
       "      <td>2011-01-01 04:00:00</td>\n",
       "      <td>1</td>\n",
       "      <td>0</td>\n",
       "      <td>0</td>\n",
       "      <td>1</td>\n",
       "      <td>9.84</td>\n",
       "      <td>14.395</td>\n",
       "      <td>75</td>\n",
       "      <td>0.0</td>\n",
       "      <td>0</td>\n",
       "      <td>1</td>\n",
       "      <td>1</td>\n",
       "    </tr>\n",
       "  </tbody>\n",
       "</table>\n",
       "</div>"
      ],
      "text/plain": [
       "              datetime  season  holiday  workingday  weather  temp   atemp  \\\n",
       "0  2011-01-01 00:00:00       1        0           0        1  9.84  14.395   \n",
       "1  2011-01-01 01:00:00       1        0           0        1  9.02  13.635   \n",
       "2  2011-01-01 02:00:00       1        0           0        1  9.02  13.635   \n",
       "3  2011-01-01 03:00:00       1        0           0        1  9.84  14.395   \n",
       "4  2011-01-01 04:00:00       1        0           0        1  9.84  14.395   \n",
       "\n",
       "   humidity  windspeed  casual  registered  count  \n",
       "0        81        0.0       3          13     16  \n",
       "1        80        0.0       8          32     40  \n",
       "2        80        0.0       5          27     32  \n",
       "3        75        0.0       3          10     13  \n",
       "4        75        0.0       0           1      1  "
      ]
     },
     "execution_count": 4,
     "metadata": {},
     "output_type": "execute_result"
    }
   ],
   "source": [
    "df.head()"
   ]
  },
  {
   "cell_type": "code",
   "execution_count": null,
   "id": "21fc4a07",
   "metadata": {},
   "outputs": [],
   "source": []
  },
  {
   "cell_type": "code",
   "execution_count": 5,
   "id": "824be6ac",
   "metadata": {},
   "outputs": [
    {
     "data": {
      "text/plain": [
       "(10886, 12)"
      ]
     },
     "execution_count": 5,
     "metadata": {},
     "output_type": "execute_result"
    }
   ],
   "source": [
    "df.shape"
   ]
  },
  {
   "cell_type": "code",
   "execution_count": null,
   "id": "fee174c5",
   "metadata": {},
   "outputs": [],
   "source": []
  },
  {
   "cell_type": "code",
   "execution_count": 6,
   "id": "11a38747",
   "metadata": {
    "scrolled": true
   },
   "outputs": [
    {
     "data": {
      "text/plain": [
       "datetime       object\n",
       "season          int64\n",
       "holiday         int64\n",
       "workingday      int64\n",
       "weather         int64\n",
       "temp          float64\n",
       "atemp         float64\n",
       "humidity        int64\n",
       "windspeed     float64\n",
       "casual          int64\n",
       "registered      int64\n",
       "count           int64\n",
       "dtype: object"
      ]
     },
     "execution_count": 6,
     "metadata": {},
     "output_type": "execute_result"
    }
   ],
   "source": [
    "df.dtypes"
   ]
  },
  {
   "cell_type": "code",
   "execution_count": null,
   "id": "e640523d",
   "metadata": {},
   "outputs": [],
   "source": []
  },
  {
   "cell_type": "markdown",
   "id": "5565b0e5",
   "metadata": {},
   "source": [
    "# Converting the datetime into specific date,month and year columns"
   ]
  },
  {
   "cell_type": "code",
   "execution_count": null,
   "id": "1a79de96",
   "metadata": {},
   "outputs": [],
   "source": []
  },
  {
   "cell_type": "code",
   "execution_count": 7,
   "id": "efaa1d98",
   "metadata": {},
   "outputs": [],
   "source": [
    "df['datetime'] = pd.to_datetime(df['datetime'])\n",
    "\n",
    "df['year'] = df['datetime'].dt.year\n",
    "df['month'] = df['datetime'].dt.month\n",
    "df['day'] = df['datetime'].dt.day\n",
    "df['hour'] = df['datetime'].dt.hour\n",
    "df['day_name'] = df['datetime'].dt.day_name()"
   ]
  },
  {
   "cell_type": "code",
   "execution_count": 8,
   "id": "fb8bad2b",
   "metadata": {},
   "outputs": [
    {
     "data": {
      "text/html": [
       "<div>\n",
       "<style scoped>\n",
       "    .dataframe tbody tr th:only-of-type {\n",
       "        vertical-align: middle;\n",
       "    }\n",
       "\n",
       "    .dataframe tbody tr th {\n",
       "        vertical-align: top;\n",
       "    }\n",
       "\n",
       "    .dataframe thead th {\n",
       "        text-align: right;\n",
       "    }\n",
       "</style>\n",
       "<table border=\"1\" class=\"dataframe\">\n",
       "  <thead>\n",
       "    <tr style=\"text-align: right;\">\n",
       "      <th></th>\n",
       "      <th>datetime</th>\n",
       "      <th>season</th>\n",
       "      <th>holiday</th>\n",
       "      <th>workingday</th>\n",
       "      <th>weather</th>\n",
       "      <th>temp</th>\n",
       "      <th>atemp</th>\n",
       "      <th>humidity</th>\n",
       "      <th>windspeed</th>\n",
       "      <th>casual</th>\n",
       "      <th>registered</th>\n",
       "      <th>count</th>\n",
       "      <th>year</th>\n",
       "      <th>month</th>\n",
       "      <th>day</th>\n",
       "      <th>hour</th>\n",
       "      <th>day_name</th>\n",
       "    </tr>\n",
       "  </thead>\n",
       "  <tbody>\n",
       "    <tr>\n",
       "      <th>0</th>\n",
       "      <td>2011-01-01 00:00:00</td>\n",
       "      <td>1</td>\n",
       "      <td>0</td>\n",
       "      <td>0</td>\n",
       "      <td>1</td>\n",
       "      <td>9.84</td>\n",
       "      <td>14.395</td>\n",
       "      <td>81</td>\n",
       "      <td>0.0000</td>\n",
       "      <td>3</td>\n",
       "      <td>13</td>\n",
       "      <td>16</td>\n",
       "      <td>2011</td>\n",
       "      <td>1</td>\n",
       "      <td>1</td>\n",
       "      <td>0</td>\n",
       "      <td>Saturday</td>\n",
       "    </tr>\n",
       "    <tr>\n",
       "      <th>1</th>\n",
       "      <td>2011-01-01 01:00:00</td>\n",
       "      <td>1</td>\n",
       "      <td>0</td>\n",
       "      <td>0</td>\n",
       "      <td>1</td>\n",
       "      <td>9.02</td>\n",
       "      <td>13.635</td>\n",
       "      <td>80</td>\n",
       "      <td>0.0000</td>\n",
       "      <td>8</td>\n",
       "      <td>32</td>\n",
       "      <td>40</td>\n",
       "      <td>2011</td>\n",
       "      <td>1</td>\n",
       "      <td>1</td>\n",
       "      <td>1</td>\n",
       "      <td>Saturday</td>\n",
       "    </tr>\n",
       "    <tr>\n",
       "      <th>2</th>\n",
       "      <td>2011-01-01 02:00:00</td>\n",
       "      <td>1</td>\n",
       "      <td>0</td>\n",
       "      <td>0</td>\n",
       "      <td>1</td>\n",
       "      <td>9.02</td>\n",
       "      <td>13.635</td>\n",
       "      <td>80</td>\n",
       "      <td>0.0000</td>\n",
       "      <td>5</td>\n",
       "      <td>27</td>\n",
       "      <td>32</td>\n",
       "      <td>2011</td>\n",
       "      <td>1</td>\n",
       "      <td>1</td>\n",
       "      <td>2</td>\n",
       "      <td>Saturday</td>\n",
       "    </tr>\n",
       "    <tr>\n",
       "      <th>3</th>\n",
       "      <td>2011-01-01 03:00:00</td>\n",
       "      <td>1</td>\n",
       "      <td>0</td>\n",
       "      <td>0</td>\n",
       "      <td>1</td>\n",
       "      <td>9.84</td>\n",
       "      <td>14.395</td>\n",
       "      <td>75</td>\n",
       "      <td>0.0000</td>\n",
       "      <td>3</td>\n",
       "      <td>10</td>\n",
       "      <td>13</td>\n",
       "      <td>2011</td>\n",
       "      <td>1</td>\n",
       "      <td>1</td>\n",
       "      <td>3</td>\n",
       "      <td>Saturday</td>\n",
       "    </tr>\n",
       "    <tr>\n",
       "      <th>4</th>\n",
       "      <td>2011-01-01 04:00:00</td>\n",
       "      <td>1</td>\n",
       "      <td>0</td>\n",
       "      <td>0</td>\n",
       "      <td>1</td>\n",
       "      <td>9.84</td>\n",
       "      <td>14.395</td>\n",
       "      <td>75</td>\n",
       "      <td>0.0000</td>\n",
       "      <td>0</td>\n",
       "      <td>1</td>\n",
       "      <td>1</td>\n",
       "      <td>2011</td>\n",
       "      <td>1</td>\n",
       "      <td>1</td>\n",
       "      <td>4</td>\n",
       "      <td>Saturday</td>\n",
       "    </tr>\n",
       "    <tr>\n",
       "      <th>...</th>\n",
       "      <td>...</td>\n",
       "      <td>...</td>\n",
       "      <td>...</td>\n",
       "      <td>...</td>\n",
       "      <td>...</td>\n",
       "      <td>...</td>\n",
       "      <td>...</td>\n",
       "      <td>...</td>\n",
       "      <td>...</td>\n",
       "      <td>...</td>\n",
       "      <td>...</td>\n",
       "      <td>...</td>\n",
       "      <td>...</td>\n",
       "      <td>...</td>\n",
       "      <td>...</td>\n",
       "      <td>...</td>\n",
       "      <td>...</td>\n",
       "    </tr>\n",
       "    <tr>\n",
       "      <th>10881</th>\n",
       "      <td>2012-12-19 19:00:00</td>\n",
       "      <td>4</td>\n",
       "      <td>0</td>\n",
       "      <td>1</td>\n",
       "      <td>1</td>\n",
       "      <td>15.58</td>\n",
       "      <td>19.695</td>\n",
       "      <td>50</td>\n",
       "      <td>26.0027</td>\n",
       "      <td>7</td>\n",
       "      <td>329</td>\n",
       "      <td>336</td>\n",
       "      <td>2012</td>\n",
       "      <td>12</td>\n",
       "      <td>19</td>\n",
       "      <td>19</td>\n",
       "      <td>Wednesday</td>\n",
       "    </tr>\n",
       "    <tr>\n",
       "      <th>10882</th>\n",
       "      <td>2012-12-19 20:00:00</td>\n",
       "      <td>4</td>\n",
       "      <td>0</td>\n",
       "      <td>1</td>\n",
       "      <td>1</td>\n",
       "      <td>14.76</td>\n",
       "      <td>17.425</td>\n",
       "      <td>57</td>\n",
       "      <td>15.0013</td>\n",
       "      <td>10</td>\n",
       "      <td>231</td>\n",
       "      <td>241</td>\n",
       "      <td>2012</td>\n",
       "      <td>12</td>\n",
       "      <td>19</td>\n",
       "      <td>20</td>\n",
       "      <td>Wednesday</td>\n",
       "    </tr>\n",
       "    <tr>\n",
       "      <th>10883</th>\n",
       "      <td>2012-12-19 21:00:00</td>\n",
       "      <td>4</td>\n",
       "      <td>0</td>\n",
       "      <td>1</td>\n",
       "      <td>1</td>\n",
       "      <td>13.94</td>\n",
       "      <td>15.910</td>\n",
       "      <td>61</td>\n",
       "      <td>15.0013</td>\n",
       "      <td>4</td>\n",
       "      <td>164</td>\n",
       "      <td>168</td>\n",
       "      <td>2012</td>\n",
       "      <td>12</td>\n",
       "      <td>19</td>\n",
       "      <td>21</td>\n",
       "      <td>Wednesday</td>\n",
       "    </tr>\n",
       "    <tr>\n",
       "      <th>10884</th>\n",
       "      <td>2012-12-19 22:00:00</td>\n",
       "      <td>4</td>\n",
       "      <td>0</td>\n",
       "      <td>1</td>\n",
       "      <td>1</td>\n",
       "      <td>13.94</td>\n",
       "      <td>17.425</td>\n",
       "      <td>61</td>\n",
       "      <td>6.0032</td>\n",
       "      <td>12</td>\n",
       "      <td>117</td>\n",
       "      <td>129</td>\n",
       "      <td>2012</td>\n",
       "      <td>12</td>\n",
       "      <td>19</td>\n",
       "      <td>22</td>\n",
       "      <td>Wednesday</td>\n",
       "    </tr>\n",
       "    <tr>\n",
       "      <th>10885</th>\n",
       "      <td>2012-12-19 23:00:00</td>\n",
       "      <td>4</td>\n",
       "      <td>0</td>\n",
       "      <td>1</td>\n",
       "      <td>1</td>\n",
       "      <td>13.12</td>\n",
       "      <td>16.665</td>\n",
       "      <td>66</td>\n",
       "      <td>8.9981</td>\n",
       "      <td>4</td>\n",
       "      <td>84</td>\n",
       "      <td>88</td>\n",
       "      <td>2012</td>\n",
       "      <td>12</td>\n",
       "      <td>19</td>\n",
       "      <td>23</td>\n",
       "      <td>Wednesday</td>\n",
       "    </tr>\n",
       "  </tbody>\n",
       "</table>\n",
       "<p>10886 rows × 17 columns</p>\n",
       "</div>"
      ],
      "text/plain": [
       "                 datetime  season  holiday  workingday  weather   temp  \\\n",
       "0     2011-01-01 00:00:00       1        0           0        1   9.84   \n",
       "1     2011-01-01 01:00:00       1        0           0        1   9.02   \n",
       "2     2011-01-01 02:00:00       1        0           0        1   9.02   \n",
       "3     2011-01-01 03:00:00       1        0           0        1   9.84   \n",
       "4     2011-01-01 04:00:00       1        0           0        1   9.84   \n",
       "...                   ...     ...      ...         ...      ...    ...   \n",
       "10881 2012-12-19 19:00:00       4        0           1        1  15.58   \n",
       "10882 2012-12-19 20:00:00       4        0           1        1  14.76   \n",
       "10883 2012-12-19 21:00:00       4        0           1        1  13.94   \n",
       "10884 2012-12-19 22:00:00       4        0           1        1  13.94   \n",
       "10885 2012-12-19 23:00:00       4        0           1        1  13.12   \n",
       "\n",
       "        atemp  humidity  windspeed  casual  registered  count  year  month  \\\n",
       "0      14.395        81     0.0000       3          13     16  2011      1   \n",
       "1      13.635        80     0.0000       8          32     40  2011      1   \n",
       "2      13.635        80     0.0000       5          27     32  2011      1   \n",
       "3      14.395        75     0.0000       3          10     13  2011      1   \n",
       "4      14.395        75     0.0000       0           1      1  2011      1   \n",
       "...       ...       ...        ...     ...         ...    ...   ...    ...   \n",
       "10881  19.695        50    26.0027       7         329    336  2012     12   \n",
       "10882  17.425        57    15.0013      10         231    241  2012     12   \n",
       "10883  15.910        61    15.0013       4         164    168  2012     12   \n",
       "10884  17.425        61     6.0032      12         117    129  2012     12   \n",
       "10885  16.665        66     8.9981       4          84     88  2012     12   \n",
       "\n",
       "       day  hour   day_name  \n",
       "0        1     0   Saturday  \n",
       "1        1     1   Saturday  \n",
       "2        1     2   Saturday  \n",
       "3        1     3   Saturday  \n",
       "4        1     4   Saturday  \n",
       "...    ...   ...        ...  \n",
       "10881   19    19  Wednesday  \n",
       "10882   19    20  Wednesday  \n",
       "10883   19    21  Wednesday  \n",
       "10884   19    22  Wednesday  \n",
       "10885   19    23  Wednesday  \n",
       "\n",
       "[10886 rows x 17 columns]"
      ]
     },
     "execution_count": 8,
     "metadata": {},
     "output_type": "execute_result"
    }
   ],
   "source": [
    "df"
   ]
  },
  {
   "cell_type": "code",
   "execution_count": null,
   "id": "96abe12b",
   "metadata": {},
   "outputs": [],
   "source": []
  },
  {
   "cell_type": "markdown",
   "id": "54425c85",
   "metadata": {},
   "source": [
    "# Categorical variables"
   ]
  },
  {
   "cell_type": "code",
   "execution_count": null,
   "id": "f0447339",
   "metadata": {},
   "outputs": [],
   "source": []
  },
  {
   "cell_type": "markdown",
   "id": "995a4443",
   "metadata": {},
   "source": [
    "### Season average counts"
   ]
  },
  {
   "cell_type": "code",
   "execution_count": null,
   "id": "8efaa44c",
   "metadata": {},
   "outputs": [],
   "source": []
  },
  {
   "cell_type": "code",
   "execution_count": 9,
   "id": "b2ae2637",
   "metadata": {},
   "outputs": [
    {
     "data": {
      "image/png": "[encoded data removed]",
      "text/plain": [
       "<Figure size 720x288 with 1 Axes>"
      ]
     },
     "metadata": {
      "needs_background": "light"
     },
     "output_type": "display_data"
    }
   ],
   "source": [
    "df['season'] = df['season'].map({1:'spring',2:'summer',3:'fall',4:'winter'})\n",
    "plt.figure(figsize=[10,4])\n",
    "sns.barplot(df['season'],df['count'])\n",
    "plt.title('Seasons Average Count', fontsize = 20)\n",
    "plt.show()"
   ]
  },
  {
   "cell_type": "markdown",
   "id": "8a4bc17a",
   "metadata": {},
   "source": [
    "### Insights\n",
    "    In fall there seems to be the highest demand of the rented bikes followed by summer and winter\n",
    "    Spring seems to be the least season where people rented bikes"
   ]
  },
  {
   "cell_type": "markdown",
   "id": "3f1e88c2",
   "metadata": {},
   "source": [
    "### Monthly average counts"
   ]
  },
  {
   "cell_type": "code",
   "execution_count": 10,
   "id": "c9762430",
   "metadata": {},
   "outputs": [
    {
     "data": {
      "image/png": "[encoded data removed]",
      "text/plain": [
       "<Figure size 1008x360 with 1 Axes>"
      ]
     },
     "metadata": {
      "needs_background": "light"
     },
     "output_type": "display_data"
    }
   ],
   "source": [
    "df['month'] = df['month'].map({1:'Jan',2:'Feb',3:'Mar',4:'April',\n",
    "                                       5:'May',6:'June',7:'July',8:'Aug',\n",
    "                                       9:'Sept',10:'Oct',11:'Nov',12:'Dec'})\n",
    "plt.figure(figsize=[14,5])\n",
    "sns.barplot(df['month'],df['count'])\n",
    "plt.title('Monthly Average Count', fontsize = 20)\n",
    "plt.show()"
   ]
  },
  {
   "cell_type": "markdown",
   "id": "bcab20ae",
   "metadata": {},
   "source": [
    "### Insight\n",
    "    Almost similar number of booking in the month of july Aug and Sept followed by may octomber. Company should be ready with high availability of bikes during these months.\n",
    "    Dec, Jan and Feb have the least number of booking probably due to winter."
   ]
  },
  {
   "cell_type": "markdown",
   "id": "86f448d0",
   "metadata": {},
   "source": [
    "### Daily Average count"
   ]
  },
  {
   "cell_type": "code",
   "execution_count": 11,
   "id": "33e8a4c0",
   "metadata": {
    "scrolled": true
   },
   "outputs": [
    {
     "data": {
      "image/png": "[encoded data removed]",
      "text/plain": [
       "<Figure size 1008x360 with 1 Axes>"
      ]
     },
     "metadata": {
      "needs_background": "light"
     },
     "output_type": "display_data"
    }
   ],
   "source": [
    "plt.figure(figsize=(14,5))\n",
    "sns.barplot(df['day_name'],df['count'])\n",
    "plt.title('Daily Average Count')\n",
    "plt.show()"
   ]
  },
  {
   "cell_type": "markdown",
   "id": "c2551cb4",
   "metadata": {},
   "source": [
    "### Insights\n",
    "    Looks like Thursday, Friday and Saturday has relatively high demands but sunday is off still sunday has lesser demand than other days\n",
    "    People prefer less bike renting on Monday Tuesday ans wednesday "
   ]
  },
  {
   "cell_type": "markdown",
   "id": "176c01e5",
   "metadata": {},
   "source": [
    "### Working day average count"
   ]
  },
  {
   "cell_type": "code",
   "execution_count": 12,
   "id": "ee6fb0a0",
   "metadata": {},
   "outputs": [
    {
     "data": {
      "image/png": "[encoded data removed]",
      "text/plain": [
       "<Figure size 1008x360 with 1 Axes>"
      ]
     },
     "metadata": {
      "needs_background": "light"
     },
     "output_type": "display_data"
    }
   ],
   "source": [
    "df['workingday']=df['workingday'].map({0:'holiday',1:'working_day'})\n",
    "plt.figure(figsize=(14,5))\n",
    "sns.barplot(df['workingday'],df['count'])\n",
    "plt.title('Working day average count')\n",
    "plt.show()"
   ]
  },
  {
   "cell_type": "markdown",
   "id": "758a7013",
   "metadata": {},
   "source": [
    "### Insights\n",
    "    There are similar demands whether it is working day or not"
   ]
  },
  {
   "cell_type": "markdown",
   "id": "c84d3c31",
   "metadata": {},
   "source": [
    "### Average count based on weather"
   ]
  },
  {
   "cell_type": "code",
   "execution_count": 13,
   "id": "db0349ae",
   "metadata": {},
   "outputs": [
    {
     "data": {
      "image/png": "[encoded data removed]",
      "text/plain": [
       "<Figure size 1008x360 with 1 Axes>"
      ]
     },
     "metadata": {
      "needs_background": "light"
     },
     "output_type": "display_data"
    }
   ],
   "source": [
    "df['weather']=df['weather'].map({1:'Good',2:'Better',3:'Bad',4:'Worst'})\n",
    "plt.figure(figsize=(14,5))\n",
    "sns.barplot(df['weather'],df['count'])\n",
    "plt.title('Weather wise average count')\n",
    "plt.show()"
   ]
  },
  {
   "cell_type": "markdown",
   "id": "043cf077",
   "metadata": {},
   "source": [
    "### Insights\n",
    "    * It is clear that if the weather is clear (Good), the demand is more\n",
    "    * If the weather gets towards bad there is good amount of fall in renting\n",
    "    * But the people tend to rent the bikes more in worst weather condition than bad weather condition\n",
    "    * Company should lookup the weather forecast to fulfill demands"
   ]
  },
  {
   "cell_type": "markdown",
   "id": "56ca37bd",
   "metadata": {},
   "source": [
    "# Average count on holidays"
   ]
  },
  {
   "cell_type": "code",
   "execution_count": 14,
   "id": "2353cca1",
   "metadata": {
    "scrolled": true
   },
   "outputs": [
    {
     "data": {
      "image/png": "[encoded data removed]",
      "text/plain": [
       "<Figure size 1008x360 with 1 Axes>"
      ]
     },
     "metadata": {
      "needs_background": "light"
     },
     "output_type": "display_data"
    }
   ],
   "source": [
    "df['holiday']=df['holiday'].map({0:'No',1:'Yes'})\n",
    "plt.figure(figsize=(14,5))\n",
    "sns.barplot(df['holiday'],df['count'])\n",
    "plt.title('Average based on Holidays')\n",
    "plt.show()"
   ]
  },
  {
   "cell_type": "markdown",
   "id": "5a2feb97",
   "metadata": {},
   "source": [
    "### Insights\n",
    "    demand decreases if there is a Holiday"
   ]
  },
  {
   "cell_type": "code",
   "execution_count": null,
   "id": "0a2018ad",
   "metadata": {},
   "outputs": [],
   "source": []
  },
  {
   "cell_type": "markdown",
   "id": "b2d8b406",
   "metadata": {},
   "source": [
    "# Feature Engineering"
   ]
  },
  {
   "cell_type": "markdown",
   "id": "62a6eb81",
   "metadata": {},
   "source": [
    "# Dropping the un-necessary columns"
   ]
  },
  {
   "cell_type": "code",
   "execution_count": 15,
   "id": "5bb94856",
   "metadata": {},
   "outputs": [],
   "source": [
    "df=df.drop('datetime',axis=1)"
   ]
  },
  {
   "cell_type": "markdown",
   "id": "a66bf90f",
   "metadata": {},
   "source": [
    "# Visualization of datatypes"
   ]
  },
  {
   "cell_type": "code",
   "execution_count": 16,
   "id": "5f4d1fb8",
   "metadata": {},
   "outputs": [
    {
     "data": {
      "image/png": "[encoded data removed]",
      "text/plain": [
       "<Figure size 864x360 with 1 Axes>"
      ]
     },
     "metadata": {
      "needs_background": "light"
     },
     "output_type": "display_data"
    }
   ],
   "source": [
    "dataTypeDf = pd.DataFrame(df.dtypes.value_counts()).reset_index().rename(columns={\"index\":\"Variabletype\",0:\"count\"})\n",
    "fig,ax=plt.subplots()\n",
    "fig.set_size_inches(12,5)\n",
    "sns.barplot(data=df,ax=ax)\n",
    "ax.set(title='Variable Datatype Count')\n",
    "plt.show()"
   ]
  },
  {
   "cell_type": "code",
   "execution_count": null,
   "id": "16133629",
   "metadata": {},
   "outputs": [],
   "source": []
  },
  {
   "cell_type": "markdown",
   "id": "0ee46495",
   "metadata": {},
   "source": [
    "# Missing Value analysis"
   ]
  },
  {
   "cell_type": "code",
   "execution_count": 17,
   "id": "baa0bd71",
   "metadata": {},
   "outputs": [
    {
     "data": {
      "text/plain": [
       "season        False\n",
       "holiday       False\n",
       "workingday    False\n",
       "weather       False\n",
       "temp          False\n",
       "atemp         False\n",
       "humidity      False\n",
       "windspeed     False\n",
       "casual        False\n",
       "registered    False\n",
       "count         False\n",
       "year          False\n",
       "month         False\n",
       "day           False\n",
       "hour          False\n",
       "day_name      False\n",
       "dtype: bool"
      ]
     },
     "execution_count": 17,
     "metadata": {},
     "output_type": "execute_result"
    }
   ],
   "source": [
    "df.isnull().any()"
   ]
  },
  {
   "cell_type": "markdown",
   "id": "e9836914",
   "metadata": {},
   "source": [
    "### Insight\n",
    "    No missing values are found the dataset"
   ]
  },
  {
   "cell_type": "code",
   "execution_count": null,
   "id": "81dc0f8c",
   "metadata": {},
   "outputs": [],
   "source": []
  },
  {
   "cell_type": "markdown",
   "id": "29c301bc",
   "metadata": {},
   "source": [
    "# Skewness of distribution"
   ]
  },
  {
   "cell_type": "code",
   "execution_count": 18,
   "id": "46ab22b8",
   "metadata": {},
   "outputs": [
    {
     "data": {
      "image/png": "[encoded data removed]",
      "text/plain": [
       "<Figure size 864x360 with 2 Axes>"
      ]
     },
     "metadata": {
      "needs_background": "light"
     },
     "output_type": "display_data"
    }
   ],
   "source": [
    "msno.matrix(df,figsize=(12,5))\n",
    "plt.show()"
   ]
  },
  {
   "cell_type": "markdown",
   "id": "6239b196",
   "metadata": {},
   "source": [
    "# Outliers Analysis"
   ]
  },
  {
   "cell_type": "code",
   "execution_count": 19,
   "id": "3a915e93",
   "metadata": {},
   "outputs": [
    {
     "data": {
      "image/png": "[encoded data removed]",
      "text/plain": [
       "<Figure size 864x720 with 4 Axes>"
      ]
     },
     "metadata": {
      "needs_background": "light"
     },
     "output_type": "display_data"
    }
   ],
   "source": [
    "fig,axes=plt.subplots(nrows=2,ncols=2)\n",
    "fig.set_size_inches(12,10)\n",
    "sns.boxplot(data=df,y='count',orient='v',ax=axes[0][0])\n",
    "sns.boxplot(data=df,x='season',y='count',orient='v',ax=axes[0][1])\n",
    "sns.boxplot(data=df,x='hour',y='count',orient='v',ax=axes[1][0])\n",
    "sns.boxplot(data=df,x='workingday',y='count',orient='v',ax=axes[1][1])\n",
    "\n",
    "axes[0][0].set(ylabel='Count',title='Box plot on count')\n",
    "axes[0][1].set(xlabel='Season'.title,ylabel='Count',title='Box plot on count across season')\n",
    "axes[1][0].set(xlabel='Hour of the day',ylabel='Count',title='Box plot on count across working day')\n",
    "plt.show()"
   ]
  },
  {
   "cell_type": "markdown",
   "id": "4fa661ac",
   "metadata": {},
   "source": [
    "# Removing the outliers"
   ]
  },
  {
   "cell_type": "code",
   "execution_count": 20,
   "id": "608adfdf",
   "metadata": {},
   "outputs": [],
   "source": [
    "dfwithoutoutliers = df[np.abs(df['count']-df['count'].mean())<=(3*df['count'].std())]"
   ]
  },
  {
   "cell_type": "code",
   "execution_count": 21,
   "id": "5954f916",
   "metadata": {},
   "outputs": [
    {
     "name": "stdout",
     "output_type": "stream",
     "text": [
      "Shape of data before outliers (10886, 16)\n",
      "Shape of data after outliers (10739, 16)\n"
     ]
    }
   ],
   "source": [
    "print('Shape of data before outliers',df.shape)\n",
    "print('Shape of data after outliers',dfwithoutoutliers.shape)"
   ]
  },
  {
   "cell_type": "code",
   "execution_count": 25,
   "id": "6fae5045",
   "metadata": {},
   "outputs": [
    {
     "data": {
      "text/html": [
       "<div>\n",
       "<style scoped>\n",
       "    .dataframe tbody tr th:only-of-type {\n",
       "        vertical-align: middle;\n",
       "    }\n",
       "\n",
       "    .dataframe tbody tr th {\n",
       "        vertical-align: top;\n",
       "    }\n",
       "\n",
       "    .dataframe thead th {\n",
       "        text-align: right;\n",
       "    }\n",
       "</style>\n",
       "<table border=\"1\" class=\"dataframe\">\n",
       "  <thead>\n",
       "    <tr style=\"text-align: right;\">\n",
       "      <th></th>\n",
       "      <th>temp</th>\n",
       "      <th>atemp</th>\n",
       "      <th>humidity</th>\n",
       "      <th>windspeed</th>\n",
       "      <th>casual</th>\n",
       "      <th>registered</th>\n",
       "      <th>count</th>\n",
       "      <th>year</th>\n",
       "      <th>day</th>\n",
       "      <th>hour</th>\n",
       "    </tr>\n",
       "  </thead>\n",
       "  <tbody>\n",
       "    <tr>\n",
       "      <th>temp</th>\n",
       "      <td>1.000000</td>\n",
       "      <td>0.984948</td>\n",
       "      <td>-0.064949</td>\n",
       "      <td>-0.017852</td>\n",
       "      <td>0.467097</td>\n",
       "      <td>0.318571</td>\n",
       "      <td>0.394454</td>\n",
       "      <td>0.061226</td>\n",
       "      <td>0.015551</td>\n",
       "      <td>0.145430</td>\n",
       "    </tr>\n",
       "    <tr>\n",
       "      <th>atemp</th>\n",
       "      <td>0.984948</td>\n",
       "      <td>1.000000</td>\n",
       "      <td>-0.043536</td>\n",
       "      <td>-0.057473</td>\n",
       "      <td>0.462067</td>\n",
       "      <td>0.314635</td>\n",
       "      <td>0.389784</td>\n",
       "      <td>0.058540</td>\n",
       "      <td>0.011866</td>\n",
       "      <td>0.140343</td>\n",
       "    </tr>\n",
       "    <tr>\n",
       "      <th>humidity</th>\n",
       "      <td>-0.064949</td>\n",
       "      <td>-0.043536</td>\n",
       "      <td>1.000000</td>\n",
       "      <td>-0.318607</td>\n",
       "      <td>-0.348187</td>\n",
       "      <td>-0.265458</td>\n",
       "      <td>-0.317371</td>\n",
       "      <td>-0.078606</td>\n",
       "      <td>-0.011335</td>\n",
       "      <td>-0.278011</td>\n",
       "    </tr>\n",
       "    <tr>\n",
       "      <th>windspeed</th>\n",
       "      <td>-0.017852</td>\n",
       "      <td>-0.057473</td>\n",
       "      <td>-0.318607</td>\n",
       "      <td>1.000000</td>\n",
       "      <td>0.092276</td>\n",
       "      <td>0.091052</td>\n",
       "      <td>0.101369</td>\n",
       "      <td>-0.015221</td>\n",
       "      <td>0.036157</td>\n",
       "      <td>0.146631</td>\n",
       "    </tr>\n",
       "    <tr>\n",
       "      <th>casual</th>\n",
       "      <td>0.467097</td>\n",
       "      <td>0.462067</td>\n",
       "      <td>-0.348187</td>\n",
       "      <td>0.092276</td>\n",
       "      <td>1.000000</td>\n",
       "      <td>0.497250</td>\n",
       "      <td>0.690414</td>\n",
       "      <td>0.145241</td>\n",
       "      <td>0.014109</td>\n",
       "      <td>0.302045</td>\n",
       "    </tr>\n",
       "    <tr>\n",
       "      <th>registered</th>\n",
       "      <td>0.318571</td>\n",
       "      <td>0.314635</td>\n",
       "      <td>-0.265458</td>\n",
       "      <td>0.091052</td>\n",
       "      <td>0.497250</td>\n",
       "      <td>1.000000</td>\n",
       "      <td>0.970948</td>\n",
       "      <td>0.264265</td>\n",
       "      <td>0.019111</td>\n",
       "      <td>0.380540</td>\n",
       "    </tr>\n",
       "    <tr>\n",
       "      <th>count</th>\n",
       "      <td>0.394454</td>\n",
       "      <td>0.389784</td>\n",
       "      <td>-0.317371</td>\n",
       "      <td>0.101369</td>\n",
       "      <td>0.690414</td>\n",
       "      <td>0.970948</td>\n",
       "      <td>1.000000</td>\n",
       "      <td>0.260403</td>\n",
       "      <td>0.019826</td>\n",
       "      <td>0.400601</td>\n",
       "    </tr>\n",
       "    <tr>\n",
       "      <th>year</th>\n",
       "      <td>0.061226</td>\n",
       "      <td>0.058540</td>\n",
       "      <td>-0.078606</td>\n",
       "      <td>-0.015221</td>\n",
       "      <td>0.145241</td>\n",
       "      <td>0.264265</td>\n",
       "      <td>0.260403</td>\n",
       "      <td>1.000000</td>\n",
       "      <td>0.001800</td>\n",
       "      <td>-0.004234</td>\n",
       "    </tr>\n",
       "    <tr>\n",
       "      <th>day</th>\n",
       "      <td>0.015551</td>\n",
       "      <td>0.011866</td>\n",
       "      <td>-0.011335</td>\n",
       "      <td>0.036157</td>\n",
       "      <td>0.014109</td>\n",
       "      <td>0.019111</td>\n",
       "      <td>0.019826</td>\n",
       "      <td>0.001800</td>\n",
       "      <td>1.000000</td>\n",
       "      <td>0.001132</td>\n",
       "    </tr>\n",
       "    <tr>\n",
       "      <th>hour</th>\n",
       "      <td>0.145430</td>\n",
       "      <td>0.140343</td>\n",
       "      <td>-0.278011</td>\n",
       "      <td>0.146631</td>\n",
       "      <td>0.302045</td>\n",
       "      <td>0.380540</td>\n",
       "      <td>0.400601</td>\n",
       "      <td>-0.004234</td>\n",
       "      <td>0.001132</td>\n",
       "      <td>1.000000</td>\n",
       "    </tr>\n",
       "  </tbody>\n",
       "</table>\n",
       "</div>"
      ],
      "text/plain": [
       "                temp     atemp  humidity  windspeed    casual  registered  \\\n",
       "temp        1.000000  0.984948 -0.064949  -0.017852  0.467097    0.318571   \n",
       "atemp       0.984948  1.000000 -0.043536  -0.057473  0.462067    0.314635   \n",
       "humidity   -0.064949 -0.043536  1.000000  -0.318607 -0.348187   -0.265458   \n",
       "windspeed  -0.017852 -0.057473 -0.318607   1.000000  0.092276    0.091052   \n",
       "casual      0.467097  0.462067 -0.348187   0.092276  1.000000    0.497250   \n",
       "registered  0.318571  0.314635 -0.265458   0.091052  0.497250    1.000000   \n",
       "count       0.394454  0.389784 -0.317371   0.101369  0.690414    0.970948   \n",
       "year        0.061226  0.058540 -0.078606  -0.015221  0.145241    0.264265   \n",
       "day         0.015551  0.011866 -0.011335   0.036157  0.014109    0.019111   \n",
       "hour        0.145430  0.140343 -0.278011   0.146631  0.302045    0.380540   \n",
       "\n",
       "               count      year       day      hour  \n",
       "temp        0.394454  0.061226  0.015551  0.145430  \n",
       "atemp       0.389784  0.058540  0.011866  0.140343  \n",
       "humidity   -0.317371 -0.078606 -0.011335 -0.278011  \n",
       "windspeed   0.101369 -0.015221  0.036157  0.146631  \n",
       "casual      0.690414  0.145241  0.014109  0.302045  \n",
       "registered  0.970948  0.264265  0.019111  0.380540  \n",
       "count       1.000000  0.260403  0.019826  0.400601  \n",
       "year        0.260403  1.000000  0.001800 -0.004234  \n",
       "day         0.019826  0.001800  1.000000  0.001132  \n",
       "hour        0.400601 -0.004234  0.001132  1.000000  "
      ]
     },
     "execution_count": 25,
     "metadata": {},
     "output_type": "execute_result"
    }
   ],
   "source": [
    "df.corr()"
   ]
  },
  {
   "cell_type": "code",
   "execution_count": 26,
   "id": "2e0fbd88",
   "metadata": {
    "scrolled": true
   },
   "outputs": [
    {
     "data": {
      "text/plain": [
       "<AxesSubplot:>"
      ]
     },
     "execution_count": 26,
     "metadata": {},
     "output_type": "execute_result"
    },
    {
     "data": {
      "image/png": "[encoded data removed]",
      "text/plain": [
       "<Figure size 432x288 with 2 Axes>"
      ]
     },
     "metadata": {
      "needs_background": "light"
     },
     "output_type": "display_data"
    }
   ],
   "source": [
    "sns.heatmap(df.corr())"
   ]
  },
  {
   "cell_type": "code",
   "execution_count": null,
   "id": "e1331efd",
   "metadata": {},
   "outputs": [],
   "source": []
  },
  {
   "cell_type": "code",
   "execution_count": null,
   "id": "8ca02798",
   "metadata": {},
   "outputs": [],
   "source": []
  },
  {
   "cell_type": "code",
   "execution_count": null,
   "id": "166a5807",
   "metadata": {},
   "outputs": [],
   "source": []
  },
  {
   "cell_type": "code",
   "execution_count": null,
   "id": "d7990783",
   "metadata": {},
   "outputs": [],
   "source": []
  },
  {
   "cell_type": "code",
   "execution_count": null,
   "id": "b445ab10",
   "metadata": {},
   "outputs": [],
   "source": []
  },
  {
   "cell_type": "markdown",
   "id": "07cd43d9",
   "metadata": {},
   "source": [
    "# Correlation Analysis"
   ]
  },
  {
   "cell_type": "code",
   "execution_count": 22,
   "id": "b1883617",
   "metadata": {},
   "outputs": [
    {
     "data": {
      "image/png": "[encoded data removed]",
      "text/plain": [
       "<Figure size 1440x720 with 2 Axes>"
      ]
     },
     "metadata": {
      "needs_background": "light"
     },
     "output_type": "display_data"
    }
   ],
   "source": [
    "corrMatt = df[['temp','atemp','casual','registered','humidity','windspeed','count']].corr()\n",
    "mask = np.array(corrMatt)\n",
    "mask[np.tril_indices_from(mask)] = False\n",
    "fig,ax = plt.subplots()\n",
    "fig.set_size_inches(20,10)\n",
    "sns.heatmap(corrMatt,mask=mask,vmax=0.8,square=True,annot=True)\n",
    "plt.show()"
   ]
  },
  {
   "cell_type": "code",
   "execution_count": 23,
   "id": "98fef778",
   "metadata": {},
   "outputs": [
    {
     "data": {
      "image/png": "[encoded data removed]",
      "text/plain": [
       "<Figure size 864x360 with 3 Axes>"
      ]
     },
     "metadata": {
      "needs_background": "light"
     },
     "output_type": "display_data"
    }
   ],
   "source": [
    "fig,(ax1,ax2,ax3) = plt.subplots(ncols=3)\n",
    "fig.set_size_inches(12,5)\n",
    "sns.regplot(x='temp',y='count',data=df,ax=ax1)\n",
    "sns.regplot(x='windspeed',y='count',data=df,ax=ax2)\n",
    "sns.regplot(x='humidity',y='count',data=df,ax=ax3)\n",
    "plt.show()"
   ]
  },
  {
   "cell_type": "markdown",
   "id": "3918dd72",
   "metadata": {},
   "source": [
    "# Distribution of the data"
   ]
  },
  {
   "cell_type": "code",
   "execution_count": 24,
   "id": "cf506a7f",
   "metadata": {},
   "outputs": [
    {
     "data": {
      "image/png": "[encoded data removed]",
      "text/plain": [
       "<Figure size 864x720 with 4 Axes>"
      ]
     },
     "metadata": {
      "needs_background": "light"
     },
     "output_type": "display_data"
    }
   ],
   "source": [
    "fig,axes = plt.subplots(ncols=2,nrows=2)\n",
    "fig.set_size_inches(12, 10)\n",
    "sns.distplot(df[\"count\"],ax=axes[0][0])\n",
    "sns.distplot(np.log(dfwithoutoutliers[\"count\"]),ax=axes[1][0])\n",
    "plt.show()"
   ]
  },
  {
   "cell_type": "code",
   "execution_count": null,
   "id": "2e49da6f",
   "metadata": {},
   "outputs": [],
   "source": []
  }
 ],
 "metadata": {
  "kernelspec": {
   "display_name": "Python 3 (ipykernel)",
   "language": "python",
   "name": "python3"
  },
  "language_info": {
   "codemirror_mode": {
    "name": "ipython",
    "version": 3
   },
   "file_extension": ".py",
   "mimetype": "text/x-python",
   "name": "python",
   "nbconvert_exporter": "python",
   "pygments_lexer": "ipython3",
   "version": "3.10.2"
  }
 },
 "nbformat": 4,
 "nbformat_minor": 5
}
